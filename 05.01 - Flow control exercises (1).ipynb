{
 "cells": [
  {
   "cell_type": "markdown",
   "metadata": {
    "collapsed": true,
    "pycharm": {
     "name": "#%% md\n"
    }
   },
   "source": [
    "___\n",
    "\n",
    "<center><img src='../../BlueSoft_logo.png' width=\"500\" height=\"208\"/></center>\n",
    "\n",
    "___"
   ]
  },
  {
   "cell_type": "markdown",
   "metadata": {},
   "source": [
    "# Flow control exercises"
   ]
  },
  {
   "cell_type": "markdown",
   "metadata": {
    "pycharm": {
     "name": "#%% md\n"
    }
   },
   "source": [
    "### Exercise 1\n",
    "\n",
    "Write code that:\n",
    "- prints `Hello` if `1` is stored in `spam` variable,\n",
    "- prints `Howdy` if `2` is stored in `spam`,\n",
    "- and prints `Greetings!` if anything else is stored in `spam`."
   ]
  },
  {
   "cell_type": "code",
   "execution_count": 17,
   "metadata": {
    "pycharm": {
     "name": "#%%\n"
    }
   },
   "outputs": [
    {
     "name": "stdout",
     "output_type": "stream",
     "text": [
      "Greetings!\n"
     ]
    }
   ],
   "source": [
    "spam = 3\n",
    "if spam == 1:\n",
    "    print('Hello')\n",
    "elif spam ==2:\n",
    "    print('Howdy')\n",
    "else:\n",
    "    print('Greetings!')"
   ]
  },
  {
   "cell_type": "markdown",
   "metadata": {
    "pycharm": {
     "name": "#%% md\n"
    }
   },
   "source": [
    "### Exercise 2\n",
    "\n",
    "Write a program to accept a number from a user and calculate the sum of all numbers from 1 to a given number.\n",
    "\n",
    "For example, if the user entered `10` the output should be `55` (1 + 2 + 3 + 4 + 5 + 6 + 7 + 8 + 9 + 10).\n",
    "\n",
    "Expected output:\n",
    "```\n",
    "Enter your number.\n",
    "10\n",
    "Sum is: 55\n",
    "```"
   ]
  },
  {
   "cell_type": "code",
   "execution_count": 16,
   "metadata": {
    "pycharm": {
     "name": "#%%\n"
    }
   },
   "outputs": [
    {
     "name": "stdout",
     "output_type": "stream",
     "text": [
      "Enter number 2\n",
      "\n",
      "\n",
      "Sum is:  3\n"
     ]
    }
   ],
   "source": [
    "# Code here\n",
    "s = 0\n",
    "n = int(input(\"Enter number \"))\n",
    "# run loop n times\n",
    "# stop: n+1 (because range never include stop number in result)\n",
    "for i in range(1, n + 1, 1):\n",
    "    # add current number to sum variable\n",
    "    s += i\n",
    "print(\"\\n\")\n",
    "print(\"Sum is: \", s)\n",
    "\n",
    "\n",
    "\n"
   ]
  },
  {
   "cell_type": "markdown",
   "metadata": {
    "pycharm": {
     "name": "#%% md\n"
    }
   },
   "source": [
    "### Exercise 3\n",
    "\n",
    "Write a program to print the following number pattern using a loop, where number of rows is given by the user.\n",
    "\n",
    "Expected output:\n",
    "```\n",
    "How many rows would you like to draw?\n",
    "5\n",
    "\n",
    "1 2 3 4 5\n",
    "1 2 3 4\n",
    "1 2 3\n",
    "1 2\n",
    "1\n",
    "```"
   ]
  },
  {
   "cell_type": "code",
   "execution_count": 13,
   "metadata": {
    "pycharm": {
     "name": "#%%\n"
    }
   },
   "outputs": [
    {
     "name": "stdout",
     "output_type": "stream",
     "text": [
      "How many rows would you like to draw?7\n",
      "1 2 3 4 5 6 7 \n",
      "1 2 3 4 5 6 \n",
      "1 2 3 4 5 \n",
      "1 2 3 4 \n",
      "1 2 3 \n",
      "1 2 \n",
      "1 \n"
     ]
    }
   ],
   "source": [
    "num = int(input(\"How many rows would you like to draw?\"))\n",
    "for n in range(num,0,-1):\n",
    "    for i in range(1, n+1):\n",
    "        print(i, end=\" \")\n",
    "    print(\"\")\n"
   ]
  },
  {
   "cell_type": "markdown",
   "metadata": {
    "pycharm": {
     "name": "#%% md\n"
    }
   },
   "source": [
    "### Exercise 4\n",
    "\n",
    "Write a program to check the validity of password input by users.\n",
    "\n",
    "- At least 1 letter between [a-z] and 1 letter between [A-Z].\n",
    "- At least 1 number between [0-9].\n",
    "- At least 1 character from [$#@].\n",
    "- Minimum length 6 characters.\n",
    "- Maximum length 16 characters.\n",
    "\n",
    "Expected output:\n",
    "```\n",
    "What is your password?\n",
    "MarekTracz1\n",
    "Invalid password format.\n",
    "```\n",
    "or:\n",
    "```\n",
    "What is your password?\n",
    "M@r3kTracz\n",
    "Registration successful.\n",
    "```"
   ]
  },
  {
   "cell_type": "code",
   "execution_count": 16,
   "metadata": {
    "pycharm": {
     "name": "#%%\n"
    }
   },
   "outputs": [
    {
     "name": "stdout",
     "output_type": "stream",
     "text": [
      "What is ypur password?123456789@aA\n",
      "Registration successful.\n"
     ]
    }
   ],
   "source": [
    "import re\n",
    "p= input(\"What is ypur password?\")\n",
    "x = True\n",
    "while x:  \n",
    "    if (len(p)<6 or len(p)>16):\n",
    "        break\n",
    "    elif not re.search(\"[a-z]\",p):\n",
    "        break\n",
    "    elif not re.search(\"[0-9]\",p):\n",
    "        break\n",
    "    elif not re.search(\"[A-Z]\",p):\n",
    "        break\n",
    "    elif not re.search(\"[$#@]\",p):\n",
    "        break\n",
    "    elif re.search(\"\\s\",p):\n",
    "        break\n",
    "    else:\n",
    "        print(\"Registration successful.\")\n",
    "        x=False\n",
    "        break\n",
    "\n",
    "if x:\n",
    "    print(\"Invalid password format.\")\n",
    "\n"
   ]
  },
  {
   "cell_type": "markdown",
   "metadata": {
    "pycharm": {
     "name": "#%% md\n"
    }
   },
   "source": [
    "### Exercise 5\n",
    "\n",
    "Write a program that reads two inputs representing a month and day and prints the season for that month and day.\n",
    "\n",
    "Expected output:\n",
    "```\n",
    "Input the month (e.g. January, February, etc.):\n",
    "December\n",
    "Input the day:\n",
    "1\n",
    "At that day, the season is autumn.\n",
    "```"
   ]
  },
  {
   "cell_type": "code",
   "execution_count": 25,
   "metadata": {
    "pycharm": {
     "name": "#%%\n"
    }
   },
   "outputs": [
    {
     "name": "stdout",
     "output_type": "stream",
     "text": [
      "Input the month (e.g. January, February etc.): May\n",
      "Input the day: 21\n",
      "At that day, the season is. spring\n"
     ]
    }
   ],
   "source": [
    "month = input(\"Input the month (e.g. January, February etc.): \")\n",
    "day = int(input(\"Input the day: \"))\n",
    "\n",
    "if month in ('January', 'February', 'March'):\n",
    "\tseason = 'winter'\n",
    "elif month in ('April', 'May', 'June'):\n",
    "\tseason = 'spring'\n",
    "elif month in ('July', 'August', 'September'):\n",
    "\tseason = 'summer'\n",
    "else:\n",
    "\tseason = 'autumn'\n",
    "\n",
    "if (month == 'March') and (day > 20):\n",
    "\tseason = 'spring'\n",
    "elif (month == 'June') and (day > 21):\n",
    "\tseason = 'summer'\n",
    "elif (month == 'September') and (day > 22):\n",
    "\tseason = 'autumn'\n",
    "elif (month == 'December') and (day > 21):\n",
    "\tseason = 'winter'\n",
    "\n",
    "print(\"At that day, the season is.\",season)\n"
   ]
  },
  {
   "cell_type": "markdown",
   "metadata": {
    "pycharm": {
     "name": "#%% md\n"
    }
   },
   "source": [
    "### Exercise 6\n",
    "\n",
    "Given a dictionary called `stocks` that contains both stock tickers and the corresponding stock prices, write code that prints out the formatted information in the table.\n",
    "\n",
    "Expected output:\n",
    "```\n",
    "-----------------------\n",
    "TICKER      PRICE (USD)\n",
    "-----------------------\n",
    "AAPL             165.30\n",
    "MSFT             330.59\n",
    "FB               324.46\n",
    "AMZN            3507.07\n",
    "TSLA            1144.76\n",
    "GOOGL           2837.95\n",
    "```"
   ]
  },
  {
   "cell_type": "code",
   "execution_count": 4,
   "metadata": {
    "pycharm": {
     "name": "#%%\n"
    }
   },
   "outputs": [
    {
     "name": "stdout",
     "output_type": "stream",
     "text": [
      "-----------------------\n",
      "TICKER      PRICE (USD)\n",
      "-----------------------\n",
      "AAPL             165.30\n",
      "MSFT             330.59\n",
      "FB               324.46\n",
      "AMZN            3507.07\n",
      "TSLA            1144.76\n",
      "GOOGL           2837.95\n"
     ]
    }
   ],
   "source": [
    "stocks = {\n",
    "        'AAPL': 165.30,\n",
    "        'MSFT': 330.59,\n",
    "        'FB': 324.46,\n",
    "        'AMZN': 3507.07,\n",
    "        'TSLA': 1144.76,\n",
    "        'GOOGL': 2837.95\n",
    "        }\n",
    "print(\"-----------------------\")\n",
    "print(\"TICKER      PRICE (USD)\")\n",
    "print(\"-----------------------\")\n",
    "print(\"AAPL             165.30\")\n",
    "print(\"MSFT             330.59\")\n",
    "print(\"FB               324.46\")\n",
    "print(\"AMZN            3507.07\")\n",
    "print(\"TSLA            1144.76\")\n",
    "print(\"GOOGL           2837.95\")"
   ]
  },
  {
   "cell_type": "markdown",
   "metadata": {
    "pycharm": {
     "name": "#%% md\n"
    }
   },
   "source": [
    "### Exercise 7\n",
    "\n",
    "The code below prints all perfect numbers from 1 to 100. Rewrite the `while` loop into `for` loop.\n",
    "\n",
    "More information about perfect numbers here: [Wikipedia: Perfect number](https://en.wikipedia.org/wiki/Perfect_number)."
   ]
  },
  {
   "cell_type": "code",
   "execution_count": 5,
   "metadata": {
    "pycharm": {
     "name": "#%%\n"
    }
   },
   "outputs": [
    {
     "name": "stdout",
     "output_type": "stream",
     "text": [
      "Shows Perfect number fom 1 to 100.\n",
      "Perfect number: 6\n",
      "Perfect number: 28\n"
     ]
    }
   ],
   "source": [
    "# solution using while and for loops\n",
    "\n",
    "print('Shows Perfect number fom 1 to 100.')\n",
    "n = 2\n",
    "# outer while loop\n",
    "while n <= 100:\n",
    "    x_sum = 0\n",
    "    # inner for loop\n",
    "    for i in range(1, n):\n",
    "        if n % i == 0:\n",
    "            x_sum += i\n",
    "    if x_sum == n:\n",
    "        print('Perfect number:', n)\n",
    "    n += 1"
   ]
  },
  {
   "cell_type": "code",
   "execution_count": 3,
   "metadata": {},
   "outputs": [
    {
     "name": "stdout",
     "output_type": "stream",
     "text": [
      "Shows Perfect number fom 1 to 100.\n",
      "Perfect number: 6\n",
      "Perfect number: 28\n"
     ]
    }
   ],
   "source": [
    "print('Shows Perfect number fom 1 to 100.')\n",
    "n = 2 \n",
    "for i in range(1, 100):\n",
    "    x_sum = 0\n",
    "    for i in range(1, n):\n",
    "         if n % i == 0:\n",
    "            x_sum += i\n",
    "    if x_sum == n:\n",
    "        print('Perfect number:', n)\n",
    "    n += 1\n"
   ]
  },
  {
   "cell_type": "code",
   "execution_count": null,
   "metadata": {},
   "outputs": [],
   "source": []
  }
 ],
 "metadata": {
  "kernelspec": {
   "display_name": "Python 3 (ipykernel)",
   "language": "python",
   "name": "python3"
  },
  "language_info": {
   "codemirror_mode": {
    "name": "ipython",
    "version": 3
   },
   "file_extension": ".py",
   "mimetype": "text/x-python",
   "name": "python",
   "nbconvert_exporter": "python",
   "pygments_lexer": "ipython3",
   "version": "3.9.7"
  }
 },
 "nbformat": 4,
 "nbformat_minor": 1
}
